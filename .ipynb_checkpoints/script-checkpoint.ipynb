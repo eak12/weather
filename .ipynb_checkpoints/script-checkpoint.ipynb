{
 "cells": [
  {
   "cell_type": "markdown",
   "metadata": {},
   "source": [
    "#Assignment 2\n",
    "\n",
    "\n",
    "\n",
    "An NOAA dataset has been stored in the file `weather.csv`. This is the dataset to use for this assignment. Note: The data for this assignment comes from a subset of The National Centers for Environmental Information (NCEI) [Daily Global Historical Climatology Network](https://www1.ncdc.noaa.gov/pub/data/ghcn/daily/readme.txt) (GHCN-Daily). The GHCN-Daily is comprised of daily climate records from thousands of land surface stations across the globe.\n",
    "\n",
    "Each row in the assignment datafile corresponds to a single observation.\n",
    "\n",
    "The following variables are provided to you:\n",
    "\n",
    "* **id** : station identification code\n",
    "* **date** : date in YYYY-MM-DD format (e.g. 2012-01-24 = January 24, 2012)\n",
    "* **element** : indicator of element type\n",
    "    * TMAX : Maximum temperature (tenths of degrees C)\n",
    "    * TMIN : Minimum temperature (tenths of degrees C)\n",
    "* **value** : data value for element (tenths of degrees C)\n",
    "\n",
    "For this assignment, you must:\n",
    "\n",
    "1. Read the documentation and familiarize yourself with the dataset, then write some python code which returns a line graph of the record high and record low temperatures by day of the year over the period 2005-2014. The area between the record high and record low temperatures for each day should be shaded.\n",
    "2. Overlay a scatter of the 2015 data for any points (highs and lows) for which the ten year record (2005-2014) record high or record low was broken in 2015.\n",
    "3. Watch out for leap days (i.e. February 29th), it is reasonable to remove these points from the dataset for the purpose of this visualization.\n",
    "4. Make the visual nice! Leverage principles from the first module in this course when developing your solution. Consider issues such as legends, labels, and chart junk.\n",
    "\n"
   ]
  },
  {
   "cell_type": "markdown",
   "metadata": {},
   "source": [
    "## Synposis"
   ]
  },
  {
   "cell_type": "markdown",
   "metadata": {},
   "source": [
    "I read the csv file called 'weather.csv' and I removed leap days for only the 2015 year period.  For the period year 2015 and not 2015 I: converted the named column 'Date' to a 'Date' data type; grouped by **'day of year'**; found the minimum and maximum each for **'day of year'**"
   ]
  },
  {
   "cell_type": "markdown",
   "metadata": {},
   "source": [
    "## Processing"
   ]
  },
  {
   "cell_type": "markdown",
   "metadata": {},
   "source": [
    "The aim is to take the max of the TMAX and the min of the TMIN records, for each day.  Here's the code to load modules and functions that are used later in the code - and to read the file 'weather.csv'"
   ]
  },
  {
   "cell_type": "code",
   "execution_count": 179,
   "metadata": {},
   "outputs": [],
   "source": [
    "#1. step one - import pyplot and pandas\n",
    "import matplotlib.pyplot as plt\n",
    "\n",
    "import pandas as pd\n",
    "import datetime\n",
    "import numpy as np\n",
    "\n",
    "#2 - create use a function to get day of year from the the date column - this will be used later\n",
    "\n",
    "def get_day_year(dataframe):\n",
    "    dataframe['day_of_year'] = (dataframe['Date']\n",
    "                                          .apply(lambda x: int(datetime.datetime.strftime(x,'%j'))))\n",
    "    return dataframe\n",
    "\n",
    "#3. create function to find the maximum for each day of the year - this will be used later\n",
    "\n",
    "def get_max_day(dataframe):\n",
    "    \n",
    "    return (dataframe\n",
    "          .loc[dataframe['Element']=='TMAX',:]\n",
    "          .set_index('day_of_year')\n",
    "          .groupby(level=0)['Data_Value']\n",
    "        .agg(np.max))\n",
    "#4. create function to find the minimum for each day of the year - this will be used later\n",
    "def get_min_day(dataframe):\n",
    "    return (dataframe\n",
    "          .loc[dataframe['Element']=='TMIN',:]\n",
    "          .set_index('day_of_year')\n",
    "          .groupby(level=0)['Data_Value']\n",
    "        .agg(np.min))\n",
    "\n",
    "#5. replace the year from a Date data type - this will be used later to ensure every year has the same calender day\n",
    "#, e.g. 1st march 2012 and 1st march 2013 have 60 as the calender day - otherwise they have different calender days\n",
    "def change_date(dataframe, col_str):\n",
    "        return miss_leap_days_not_2015['Date'].map(lambda x: x.replace(year=2015))\n",
    "        \n",
    "#6 - read the raw data\n",
    "\n",
    "df = pd.read_csv('weather.csv')\n"
   ]
  },
  {
   "cell_type": "markdown",
   "metadata": {},
   "source": [
    "Here's the code to find the maximum and minimum for each calender day."
   ]
  },
  {
   "cell_type": "code",
   "execution_count": 180,
   "metadata": {},
   "outputs": [
    {
     "name": "stderr",
     "output_type": "stream",
     "text": [
      "C:\\Users\\Elias\\Anaconda2\\lib\\site-packages\\ipykernel_launcher.py:15: SettingWithCopyWarning: \n",
      "A value is trying to be set on a copy of a slice from a DataFrame.\n",
      "Try using .loc[row_indexer,col_indexer] = value instead\n",
      "\n",
      "See the caveats in the documentation: http://pandas.pydata.org/pandas-docs/stable/indexing.html#indexing-view-versus-copy\n",
      "  from ipykernel import kernelapp as app\n",
      "C:\\Users\\Elias\\Anaconda2\\lib\\site-packages\\ipykernel_launcher.py:12: SettingWithCopyWarning: \n",
      "A value is trying to be set on a copy of a slice from a DataFrame.\n",
      "Try using .loc[row_indexer,col_indexer] = value instead\n",
      "\n",
      "See the caveats in the documentation: http://pandas.pydata.org/pandas-docs/stable/indexing.html#indexing-view-versus-copy\n",
      "  if sys.path[0] == '':\n"
     ]
    },
    {
     "name": "stdout",
     "output_type": "stream",
     "text": [
      "365\n"
     ]
    }
   ],
   "source": [
    "#7 - change data type from string to date for the column Date\n",
    "\n",
    "df[\"Date\"] = pd.to_datetime(df[\"Date\"])\n",
    "\n",
    "#8 - remove the date 2015 from the dataframe df\n",
    "df['year']=df['Date'].apply(lambda date: date.year)\n",
    "not_2015_df = df[df['year']!=2015]\n",
    "\n",
    "#9 - remove leap years from df\n",
    "miss_leap_days_not_2015=not_2015_df[((not_2015_df['Date']!=pd.Timestamp(\"2008-02-29\"))\n",
    "                                     &(not_2015_df['Date']!=pd.Timestamp(\"2012-02-29\")))]\n",
    "\n",
    "#10 - replace years with the year '2015'.  this ensures corresponding day of year grouped by correctly, later\n",
    "\n",
    "miss_leap_days_not_2015['Date'] = change_date(miss_leap_days_not_2015, 'Date')\n",
    "\n",
    "#11 - get the calender day of the year using the get day of year function\n",
    "\n",
    "miss_leap_days_not_2015= get_day_year(miss_leap_days_not_2015)\n",
    "\n",
    "#12 - get the maximum for each calender day for the year not 2015\n",
    "\n",
    "max_not_2015_df = get_max_day(miss_leap_days_not_2015)\n",
    "\n",
    "#13 - get the minimum for each calender day for the year not 2015\n",
    "\n",
    "min_not_2015_df = get_min_day(miss_leap_days_not_2015)\n",
    "#9. step 9 - remove the dates other than 2015 in the dataframe df\n",
    "df['year']=df['Date'].apply(lambda date: date.year)\n",
    "df_2015 = df[df['year']==2015]\n",
    "\n",
    "#10. - get the day of the year for the period 2015 using the function get_day_year function above\n",
    "\n",
    "df_2015=get_day_year(df_2015)\n",
    "\n",
    "#11 - get the minimum for each calender day for the year 2015\n",
    "min_2015_df = get_min_day(df_2015)\n",
    "#12 - get the maximum for each calender day for the year 2015\n",
    "max_2015_df = get_max_day (df_2015)\n",
    "\n",
    "\n",
    "print(len(max_not_2015_df))"
   ]
  },
  {
   "cell_type": "code",
   "execution_count": null,
   "metadata": {},
   "outputs": [],
   "source": []
  }
 ],
 "metadata": {
  "kernelspec": {
   "display_name": "Python 2",
   "language": "python",
   "name": "python2"
  },
  "language_info": {
   "codemirror_mode": {
    "name": "ipython",
    "version": 2
   },
   "file_extension": ".py",
   "mimetype": "text/x-python",
   "name": "python",
   "nbconvert_exporter": "python",
   "pygments_lexer": "ipython2",
   "version": "2.7.16"
  }
 },
 "nbformat": 4,
 "nbformat_minor": 2
}
